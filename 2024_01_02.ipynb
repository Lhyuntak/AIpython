{
  "nbformat": 4,
  "nbformat_minor": 0,
  "metadata": {
    "colab": {
      "provenance": []
    },
    "kernelspec": {
      "name": "python3",
      "display_name": "Python 3"
    },
    "language_info": {
      "name": "python"
    }
  },
  "cells": [
    {
      "cell_type": "code",
      "execution_count": 8,
      "metadata": {
        "colab": {
          "base_uri": "https://localhost:8080/"
        },
        "id": "QH1qX8-h2NjF",
        "outputId": "e97b96cd-0c76-4888-8678-7df7f8ad7120"
      },
      "outputs": [
        {
          "name": "stdout",
          "output_type": "stream",
          "text": [
            "당신의 나이는?24\n"
          ]
        }
      ],
      "source": [
        " a = int(input('당신의 나이는?'))"
      ]
    },
    {
      "cell_type": "code",
      "source": [
        "print(a,\"살이군요.\")"
      ],
      "metadata": {
        "colab": {
          "base_uri": "https://localhost:8080/"
        },
        "id": "OOuuc7qG2UeM",
        "outputId": "3afd787c-55d8-4a3d-ec9e-a36b3004a81b"
      },
      "execution_count": 9,
      "outputs": [
        {
          "output_type": "stream",
          "name": "stdout",
          "text": [
            "24 살이군요.\n"
          ]
        }
      ]
    },
    {
      "cell_type": "code",
      "source": [
        "print(\"내년엔\", a+1, \"살이 되겠네요.\")"
      ],
      "metadata": {
        "colab": {
          "base_uri": "https://localhost:8080/"
        },
        "id": "o-ZYCyTN2ZkD",
        "outputId": "737d4195-064f-4b08-d5be-cb302a8f20d1"
      },
      "execution_count": 10,
      "outputs": [
        {
          "output_type": "stream",
          "name": "stdout",
          "text": [
            "내년엔 25 살이 되겠네요.\n"
          ]
        }
      ]
    },
    {
      "cell_type": "code",
      "source": [
        "print(type(a))"
      ],
      "metadata": {
        "colab": {
          "base_uri": "https://localhost:8080/"
        },
        "id": "yz7UB1bL2jIk",
        "outputId": "1171ad9d-2947-42c0-c162-0dfcb4035082"
      },
      "execution_count": 11,
      "outputs": [
        {
          "output_type": "stream",
          "name": "stdout",
          "text": [
            "<class 'int'>\n"
          ]
        }
      ]
    },
    {
      "cell_type": "code",
      "source": [
        " a = input('당신의 나이는?')"
      ],
      "metadata": {
        "colab": {
          "base_uri": "https://localhost:8080/"
        },
        "id": "30Vp5UOm4RI7",
        "outputId": "60c1497e-7267-43c5-f9e3-4abf240b775a"
      },
      "execution_count": 15,
      "outputs": [
        {
          "name": "stdout",
          "output_type": "stream",
          "text": [
            "당신의 나이는?24\n"
          ]
        }
      ]
    },
    {
      "cell_type": "code",
      "source": [
        "msg = a+\"살 이군요.\""
      ],
      "metadata": {
        "id": "RnypxOdq4U_i"
      },
      "execution_count": 16,
      "outputs": []
    },
    {
      "cell_type": "code",
      "source": [
        "print(msg)"
      ],
      "metadata": {
        "colab": {
          "base_uri": "https://localhost:8080/"
        },
        "id": "SScKAJK24eri",
        "outputId": "83b55ba6-65ce-41db-e31e-f89097aaaef1"
      },
      "execution_count": 17,
      "outputs": [
        {
          "output_type": "stream",
          "name": "stdout",
          "text": [
            "24살 이군요.\n"
          ]
        }
      ]
    },
    {
      "cell_type": "code",
      "source": [
        "print(\"내년엔\", int(a)+1, \"살이 되겠네요.\")\n",
        "#연산은 같은 자료형끼리 실행"
      ],
      "metadata": {
        "colab": {
          "base_uri": "https://localhost:8080/"
        },
        "id": "t5J61Mqn4iOL",
        "outputId": "1b66de5b-58db-4908-d92f-88575290f169"
      },
      "execution_count": 18,
      "outputs": [
        {
          "output_type": "stream",
          "name": "stdout",
          "text": [
            "내년엔 25 살이 되겠네요.\n"
          ]
        }
      ]
    },
    {
      "cell_type": "code",
      "source": [
        "print(type(a))"
      ],
      "metadata": {
        "colab": {
          "base_uri": "https://localhost:8080/"
        },
        "id": "o_8sz01I4lIi",
        "outputId": "1824b78b-7a87-4388-ad58-76a32a16d88d"
      },
      "execution_count": 19,
      "outputs": [
        {
          "output_type": "stream",
          "name": "stdout",
          "text": [
            "<class 'str'>\n"
          ]
        }
      ]
    },
    {
      "cell_type": "code",
      "source": [
        "a= \"파이썬\""
      ],
      "metadata": {
        "id": "EfvInCic50ZS"
      },
      "execution_count": 32,
      "outputs": []
    },
    {
      "cell_type": "code",
      "source": [
        "print(a,\"반가워!\")"
      ],
      "metadata": {
        "colab": {
          "base_uri": "https://localhost:8080/"
        },
        "id": "oXPz4-NY53D5",
        "outputId": "f05bafc9-c36c-407a-a741-61ad5eba5938"
      },
      "execution_count": 23,
      "outputs": [
        {
          "output_type": "stream",
          "name": "stdout",
          "text": [
            "파이썬 반가워!\n"
          ]
        }
      ]
    },
    {
      "cell_type": "code",
      "source": [
        "msg = a+\" 반가워!\""
      ],
      "metadata": {
        "id": "ByV4XtB86A7i"
      },
      "execution_count": 28,
      "outputs": []
    },
    {
      "cell_type": "code",
      "source": [
        "print(msg)"
      ],
      "metadata": {
        "colab": {
          "base_uri": "https://localhost:8080/"
        },
        "id": "EULaqVYd6BAx",
        "outputId": "406d6691-0a0d-432d-f4f1-4dd37e0040dd"
      },
      "execution_count": 29,
      "outputs": [
        {
          "output_type": "stream",
          "name": "stdout",
          "text": [
            "파이썬 반가워!\n"
          ]
        }
      ]
    },
    {
      "cell_type": "code",
      "source": [
        "a= \"파이썬\""
      ],
      "metadata": {
        "id": "Q1Bw55IQ6-Uk"
      },
      "execution_count": 34,
      "outputs": []
    },
    {
      "cell_type": "code",
      "source": [
        "print('%s아 반가워'%a)"
      ],
      "metadata": {
        "colab": {
          "base_uri": "https://localhost:8080/"
        },
        "id": "yycZ4K1P6elC",
        "outputId": "e1ebbffe-f8f3-4ae9-d5e4-060129119639"
      },
      "execution_count": 36,
      "outputs": [
        {
          "output_type": "stream",
          "name": "stdout",
          "text": [
            "파이썬아 반가워\n"
          ]
        }
      ]
    },
    {
      "cell_type": "code",
      "source": [
        "name = \"홍길동\""
      ],
      "metadata": {
        "id": "2dOcKnHG6eqQ"
      },
      "execution_count": 42,
      "outputs": []
    },
    {
      "cell_type": "code",
      "source": [
        "age = 20.5"
      ],
      "metadata": {
        "id": "_icFc9c_9MZz"
      },
      "execution_count": 43,
      "outputs": []
    },
    {
      "cell_type": "code",
      "source": [
        "print(\"이름은 {}이고 나이는 {:.2f}입니다.\".format(name, age))"
      ],
      "metadata": {
        "colab": {
          "base_uri": "https://localhost:8080/"
        },
        "id": "wt2kQ6_i9PEy",
        "outputId": "4daad017-ef38-4797-aba8-0998061d4e23"
      },
      "execution_count": 47,
      "outputs": [
        {
          "output_type": "stream",
          "name": "stdout",
          "text": [
            "이름은 홍길동이고 나이는 20.50입니다.\n"
          ]
        }
      ]
    },
    {
      "cell_type": "code",
      "source": [
        "#2-6\n",
        "#하나의 변수를 활용하는 코드입니다.\n",
        "Lab = 105\n",
        "print('우리가 실습하는 실습실')\n",
        "print(Lab)"
      ],
      "metadata": {
        "colab": {
          "base_uri": "https://localhost:8080/"
        },
        "id": "azuw1c9qBvOC",
        "outputId": "b6f80bfd-dd55-43f9-f2ad-85e8501b8b0e"
      },
      "execution_count": 48,
      "outputs": [
        {
          "output_type": "stream",
          "name": "stdout",
          "text": [
            "우리가 실습하는 실습실\n",
            "105\n"
          ]
        }
      ]
    },
    {
      "cell_type": "code",
      "source": [
        "#2-7\n",
        "#하나의 변수를 활용하는 코드입니다.\n",
        "Lab = 105\n",
        "print('우리가 활용하는 실습실:',Lab)"
      ],
      "metadata": {
        "colab": {
          "base_uri": "https://localhost:8080/"
        },
        "id": "1sdTchcNCL3q",
        "outputId": "bba92428-6e22-448d-c7bd-43209a310993"
      },
      "execution_count": 49,
      "outputs": [
        {
          "output_type": "stream",
          "name": "stdout",
          "text": [
            "우리가 활용하는 실습실: 105\n"
          ]
        }
      ]
    },
    {
      "cell_type": "code",
      "source": [
        "#2-8\n",
        "#변수 두 개를 생성하고 값을 할당\n",
        "my_id = 20150001\n",
        "grade = 1\n",
        "\n",
        "#두 개의 변수에 할당된 값을 출력\n",
        "print('나의 학번: ')\n",
        "print(my_id)\n",
        "print('학년: ')\n",
        "print(grade)\n"
      ],
      "metadata": {
        "colab": {
          "base_uri": "https://localhost:8080/"
        },
        "id": "Ti7tmsqLCe9h",
        "outputId": "2a8e49cf-bc87-42c3-8c05-b4a0b97851f9"
      },
      "execution_count": 50,
      "outputs": [
        {
          "output_type": "stream",
          "name": "stdout",
          "text": [
            "나의 학번: \n",
            "20150001\n",
            "학년: \n",
            "1\n"
          ]
        }
      ]
    },
    {
      "cell_type": "code",
      "source": [
        "#2-9\n",
        "#변수에 값을 할당하고 출력하는 예제입니다.\n",
        "#dollars 변수에 값을 할당해봅시다.\n",
        "dollars = 2.75\n",
        "print('I have', dollars, 'in my account')\n",
        "\n",
        "#dollars 변수에 새로운 값을 할당해 봅시다.\n",
        "dollars = 99.95\n",
        "print('But now I have', dollars, 'in my account!')"
      ],
      "metadata": {
        "colab": {
          "base_uri": "https://localhost:8080/"
        },
        "id": "Ww7b3UxxDH-z",
        "outputId": "64616cb1-80b5-4e50-d093-2d74a13eb3b0"
      },
      "execution_count": 51,
      "outputs": [
        {
          "output_type": "stream",
          "name": "stdout",
          "text": [
            "I have 2.75 in my account\n",
            "But now I have 99.95 in my account!\n"
          ]
        }
      ]
    },
    {
      "cell_type": "code",
      "source": [
        "#2-10\n",
        "#두 개의 변수를 생성하고 문자열을 할당합니다.\n",
        "department = '국어국문학과'\n",
        "name = '홍길동'\n",
        "\n",
        "#각 변수에 할당된 문자열 값을 출력해보자.\n",
        "print(department, name)"
      ],
      "metadata": {
        "colab": {
          "base_uri": "https://localhost:8080/"
        },
        "id": "rAbBQCXTEAbM",
        "outputId": "5bbe2df9-43b1-441e-c5a7-c94bb2491000"
      },
      "execution_count": 52,
      "outputs": [
        {
          "output_type": "stream",
          "name": "stdout",
          "text": [
            "국어국문학과 홍길동\n"
          ]
        }
      ]
    },
    {
      "cell_type": "code",
      "source": [
        "#2-11\n",
        "#학과명을 입력받습니다.\n",
        "department = input(\"학과명:\")\n",
        "\n",
        "#여러분의 이름을 입력받습니다.\n",
        "name = input('성명:')\n",
        "\n",
        "#두 변수의 값을 출력합니다.\n",
        "print('안녕하세요', department, name)\n"
      ],
      "metadata": {
        "colab": {
          "base_uri": "https://localhost:8080/"
        },
        "id": "FP-NCFVIEZMr",
        "outputId": "8ad01d9d-adde-4520-d1e3-1822613c6779"
      },
      "execution_count": 53,
      "outputs": [
        {
          "output_type": "stream",
          "name": "stdout",
          "text": [
            "학과명:국어국문학과\n",
            "성명:홍길동\n",
            "안녕하세요 국어국문학과 홍길동\n"
          ]
        }
      ]
    },
    {
      "cell_type": "code",
      "source": [
        "#2-12\n",
        "#여러분의 이름, 나이, 통학시간 정보를 입력받습니다.\n",
        "name = input('당신의 이름은 무엇입니까?')\n",
        "age = int(input('나이는 어떻게 되시나요?'))\n",
        "attending_time = float(input('통학시간은 얼마나 걸립니까?'))\n",
        "\n",
        "#변수에 입력된 데이터를 출력해봅시다.\n",
        "print('입력 정보는 다음과 같습니다.')\n",
        "print('이름', name)\n",
        "print('나이', age)\n",
        "print('통학시간', attending_time)\n"
      ],
      "metadata": {
        "colab": {
          "base_uri": "https://localhost:8080/"
        },
        "id": "5o1yqIF5E8v7",
        "outputId": "a23e0aa2-a924-46ac-b0b9-00cd50c05576"
      },
      "execution_count": 54,
      "outputs": [
        {
          "output_type": "stream",
          "name": "stdout",
          "text": [
            "당신의 이름은 무엇입니까?홍길동\n",
            "나이는 어떻게 되시나요?20\n",
            "통학시간은 얼마나 걸립니까?2\n",
            "입력 정보는 다음과 같습니다.\n",
            "이름 홍길동\n",
            "나이 20\n",
            "통학시간 2.0\n"
          ]
        }
      ]
    },
    {
      "cell_type": "code",
      "source": [
        "#2-13\n",
        "#salary 변수에 급여를 할당합니다.\n",
        "salary = 2500.0\n",
        "\n",
        "#bonus 변수에 보너스를 할당합니다.\n",
        "bonus = 1200.0\n",
        "\n",
        "#급여와 보너스를 더하여 총 급여를 구해봅니다.\n",
        "#총 급여를 pay변수에 할당합니다.\n",
        "pay = salary + bonus\n",
        "\n",
        "#총 급여를 출력합니다.\n",
        "print('총 급여:', pay)"
      ],
      "metadata": {
        "colab": {
          "base_uri": "https://localhost:8080/"
        },
        "id": "Ajef0vwVF7MY",
        "outputId": "d3ba07ef-2c5b-404c-e325-9753629bd3cc"
      },
      "execution_count": 55,
      "outputs": [
        {
          "output_type": "stream",
          "name": "stdout",
          "text": [
            "총 급여: 3700.0\n"
          ]
        }
      ]
    },
    {
      "cell_type": "code",
      "source": [
        "#2-14\n",
        "#본 예제에서는 원가에 할인율을 적용하여 할인가격을 계산해보자\n",
        "#original price 변수에 원가를 입력받는다.\n",
        "original_price = float(input('제품의 원가를 입력해주세요.'))\n",
        "\n",
        "#원가에 할인율 20%를 적용하여 할인가를 계산하여 discount 변수에 할당한다.\n",
        "discount = original_price *0.2\n",
        "\n",
        "#원가에 할인가가 적용된 제품 가격을 계산하여 sale_price변수에 할당한다.\n",
        "sale_price = original_price - discount\n",
        "\n",
        "#할인가가 적용된 제품 가격을 출력한다.\n",
        "print('할인가격:', sale_price)"
      ],
      "metadata": {
        "colab": {
          "base_uri": "https://localhost:8080/"
        },
        "id": "gPXtEgPXGfVg",
        "outputId": "d6f9ea67-61fe-4914-90fb-3aa8695acee8"
      },
      "execution_count": 57,
      "outputs": [
        {
          "output_type": "stream",
          "name": "stdout",
          "text": [
            "제품의 원가를 입력해주세요.100.00\n",
            "할인가격: 80.0\n"
          ]
        }
      ]
    },
    {
      "cell_type": "code",
      "source": [
        "#2-15\n",
        "test1 = float(input('첫 번째 과목의 점수를 입력해주세요:'))\n",
        "test2 = float(input('두 번째 과목의 점수를 입력해주세요:'))\n",
        "test3 = float(input('세 번째 과목의 점수를 입력해주세요:'))\n",
        "\n",
        "average = (test1 + test2 + test3)/3.0\n",
        "print('3 과목의 평균 점수:', average)"
      ],
      "metadata": {
        "colab": {
          "base_uri": "https://localhost:8080/"
        },
        "id": "dmEm23ESH8bI",
        "outputId": "1261f24e-8017-47d5-cfff-e42b670be1f0"
      },
      "execution_count": 58,
      "outputs": [
        {
          "output_type": "stream",
          "name": "stdout",
          "text": [
            "첫 번째 과목의 점수를 입력해주세요:90\n",
            "두 번째 과목의 점수를 입력해주세요:80\n",
            "세 번째 과목의 점수를 입력해주세요:100\n",
            "3 과목의 평균 점수: 90.0\n"
          ]
        }
      ]
    },
    {
      "cell_type": "code",
      "source": [
        "#2-16\n",
        "total_seconds = float(input('시간 값을 초 단위로 입력해주세요.'))\n",
        "hours = total_seconds // 3600\n",
        "minutes = (total_seconds // 60) % 60\n",
        "seconds = total_seconds % 60\n",
        "\n",
        "print('시 분 초는 다음과 같습니다.')\n",
        "print('시:', hours)\n",
        "print('분:', minutes)\n",
        "print('초:', seconds)"
      ],
      "metadata": {
        "colab": {
          "base_uri": "https://localhost:8080/"
        },
        "id": "X-ZpY-FFIqeC",
        "outputId": "c7fbe9d5-509b-413c-8370-67cbe3fb339f"
      },
      "execution_count": 59,
      "outputs": [
        {
          "output_type": "stream",
          "name": "stdout",
          "text": [
            "시간 값을 초 단위로 입력해주세요.11730\n",
            "시 분 초는 다음과 같습니다.\n",
            "시: 3.0\n",
            "분: 15.0\n",
            "초: 30.0\n"
          ]
        }
      ]
    },
    {
      "cell_type": "code",
      "source": [
        "#2-17\n",
        "future_value = float(input('목표 금액을 입력해주세요.'))\n",
        "rate = float(input('연간 이율을 입력해주세요.'))\n",
        "years = int(input('저축 기간을 연 단위로 입력해주세요.'))\n",
        "present_value = future_value/(1.0+rate)**years\n",
        "\n",
        "print('적립 금액:', present_value)"
      ],
      "metadata": {
        "colab": {
          "base_uri": "https://localhost:8080/"
        },
        "id": "9ZS1uw_dJkkp",
        "outputId": "aa748880-05c9-45a6-a14c-012efc0de548"
      },
      "execution_count": 63,
      "outputs": [
        {
          "output_type": "stream",
          "name": "stdout",
          "text": [
            "목표 금액을 입력해주세요.10000.0\n",
            "연간 이율을 입력해주세요.0.05\n",
            "저축 기간을 연 단위로 입력해주세요.10\n",
            "적립 금액: 6139.132535407592\n"
          ]
        }
      ]
    },
    {
      "cell_type": "code",
      "source": [
        "#2-18\n",
        "print('a','b','c')\n",
        "print('a','b','c',sep=\"\")\n",
        "print('a','b','c',sep=\"***\")"
      ],
      "metadata": {
        "colab": {
          "base_uri": "https://localhost:8080/"
        },
        "id": "YGUHvF0aKdby",
        "outputId": "45ee6ab7-6902-40c7-8487-cc1ed9206773"
      },
      "execution_count": 64,
      "outputs": [
        {
          "output_type": "stream",
          "name": "stdout",
          "text": [
            "a b c\n",
            "abc\n",
            "a***b***c\n"
          ]
        }
      ]
    },
    {
      "cell_type": "code",
      "source": [
        "#2-19\n",
        "print('a')\n",
        "print('b')\n",
        "print('c', end=\"\")\n",
        "print('d', end=\"\")\n",
        "print('e', end=\"***\")\n",
        "print('f')\n"
      ],
      "metadata": {
        "colab": {
          "base_uri": "https://localhost:8080/"
        },
        "id": "Xo5_tSEeKvGB",
        "outputId": "0e3810a6-d52a-40e5-aa9b-6365e1f5278e"
      },
      "execution_count": 65,
      "outputs": [
        {
          "output_type": "stream",
          "name": "stdout",
          "text": [
            "a\n",
            "b\n",
            "cde***f\n"
          ]
        }
      ]
    }
  ]
}