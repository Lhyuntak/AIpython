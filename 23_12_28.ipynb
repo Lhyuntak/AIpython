{
  "nbformat": 4,
  "nbformat_minor": 0,
  "metadata": {
    "colab": {
      "provenance": []
    },
    "kernelspec": {
      "name": "python3",
      "display_name": "Python 3"
    },
    "language_info": {
      "name": "python"
    }
  },
  "cells": [
    {
      "cell_type": "code",
      "execution_count": null,
      "metadata": {
        "colab": {
          "base_uri": "https://localhost:8080/"
        },
        "id": "Gk4el1Jh_3nc",
        "outputId": "cf71f8d0-77d7-43c8-a28a-f7299bc3c234"
      },
      "outputs": [
        {
          "output_type": "stream",
          "name": "stdout",
          "text": [
            "부산대학교\n",
            "기초교육원\n",
            "컴퓨팅적 사고와 코딩\n"
          ]
        }
      ],
      "source": [
        "#2-1\n",
        "print('부산대학교')\n",
        "print('기초교육원')\n",
        "print('컴퓨팅적 사고와 코딩')"
      ]
    },
    {
      "cell_type": "code",
      "source": [
        "#2-2\n",
        "print(\"부산대학교\")\n",
        "print(\"기초교육원\")\n",
        "print(\"컴퓨팅적 사고와 코딩\")"
      ],
      "metadata": {
        "colab": {
          "base_uri": "https://localhost:8080/"
        },
        "id": "B4dPoxT3AMtI",
        "outputId": "75411832-934a-4977-9752-cd7301e7a3c8"
      },
      "execution_count": null,
      "outputs": [
        {
          "output_type": "stream",
          "name": "stdout",
          "text": [
            "부산대학교\n",
            "기초교육원\n",
            "컴퓨팅적 사고와 코딩\n"
          ]
        }
      ]
    },
    {
      "cell_type": "code",
      "source": [
        "#2-3\n",
        "print(\"\"\"One\n",
        "Two\n",
        "Three\"\"\")"
      ],
      "metadata": {
        "colab": {
          "base_uri": "https://localhost:8080/"
        },
        "id": "xbVrlGM9AQ-k",
        "outputId": "5e02490e-b999-4726-aece-2b9d66cd3089"
      },
      "execution_count": null,
      "outputs": [
        {
          "output_type": "stream",
          "name": "stdout",
          "text": [
            "One\n",
            "Two\n",
            "Three\n"
          ]
        }
      ]
    },
    {
      "cell_type": "code",
      "source": [],
      "metadata": {
        "id": "8E99Ar1bVK6g"
      },
      "execution_count": null,
      "outputs": []
    }
  ]
}